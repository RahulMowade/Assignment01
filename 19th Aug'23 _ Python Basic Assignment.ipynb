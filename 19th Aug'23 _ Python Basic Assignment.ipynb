{
 "cells": [
  {
   "cell_type": "markdown",
   "id": "cd96dfef",
   "metadata": {},
   "source": [
    "TOPIC: Python Basics Variable\n",
    "1. Declare two variables, `x` and `y`, and assign them integer values. Swap the\n",
    "   values of these variables without using any temporary variable."
   ]
  },
  {
   "cell_type": "code",
   "execution_count": 1,
   "id": "000c8c46",
   "metadata": {},
   "outputs": [
    {
     "name": "stdout",
     "output_type": "stream",
     "text": [
      "X : 20\n",
      "Y : 10\n"
     ]
    }
   ],
   "source": [
    "x = 10\n",
    "y = 20\n",
    "x,y = y,x\n",
    "\n",
    "print(\"X :\" , x)\n",
    "print(\"Y :\" , y)"
   ]
  },
  {
   "cell_type": "markdown",
   "id": "140505eb",
   "metadata": {},
   "source": [
    "2 . Create a program that calculates the area of a rectangle. Take the length and\n",
    "width as inputs from the user and store them in variables. Calculate and\n",
    "display the area."
   ]
  },
  {
   "cell_type": "code",
   "execution_count": 3,
   "id": "05bb34e1",
   "metadata": {},
   "outputs": [
    {
     "name": "stdout",
     "output_type": "stream",
     "text": [
      "Enter the lenght of rectangle: 10\n",
      "Enter the width of rectangle: 20\n",
      "The Areof rectangle is :  200.0\n"
     ]
    }
   ],
   "source": [
    "Length = float(input(\"Enter the length of rectangle: \"))\n",
    "Width = float(input(\"Enter the width of rectangle: \"))\n",
    "Area_of_Rectangle = Length * Width\n",
    "print(\"The Areof rectangle is : \" ,Area_of_Rectangle )"
   ]
  },
  {
   "cell_type": "markdown",
   "id": "41a19e2d",
   "metadata": {},
   "source": [
    "3. Write a Python program that converts temperatures from Celsius to\n",
    "   Fahrenheit. Take the temperature in Celsius as input, store it in a variable,\n",
    "   convert it to Fahrenheit, and display the result."
   ]
  },
  {
   "cell_type": "code",
   "execution_count": 5,
   "id": "30ae728d",
   "metadata": {},
   "outputs": [
    {
     "name": "stdout",
     "output_type": "stream",
     "text": [
      "Enter the temperature: 25\n",
      "Temperature in Fahrenheit :  77.0\n"
     ]
    }
   ],
   "source": [
    "Celsius = float(input(\"Enter the temperature: \"))\n",
    "Fahrenheit = (Celsius * 9/5) + 32\n",
    "print(\"Temperature in Fahrenheit : \" , Fahrenheit )"
   ]
  },
  {
   "cell_type": "markdown",
   "id": "f61cab90",
   "metadata": {},
   "source": [
    "TOPIC: String Based Questions\n",
    "1. Write a Python program that takes a string as input and prints the length of\n",
    "   the string."
   ]
  },
  {
   "cell_type": "code",
   "execution_count": 6,
   "id": "789bd9f0",
   "metadata": {},
   "outputs": [
    {
     "name": "stdout",
     "output_type": "stream",
     "text": [
      "Enter the string: I love my country\n",
      "The length of string is : 17\n"
     ]
    }
   ],
   "source": [
    "string = str(input(\"Enter the string: \"))\n",
    "string_length = len(string)\n",
    "print(f\"The length of string is : {string_length}\")"
   ]
  },
  {
   "cell_type": "markdown",
   "id": "705201ad",
   "metadata": {},
   "source": [
    "2. Create a program that takes a sentence from the user and counts the number\n",
    "   of vowels (a, e, i, o, u) in the string."
   ]
  },
  {
   "cell_type": "code",
   "execution_count": 11,
   "id": "6a4a8a09",
   "metadata": {},
   "outputs": [
    {
     "name": "stdout",
     "output_type": "stream",
     "text": [
      " Enter the sentence :I love my country.\n",
      "The count of vowels is : 5\n"
     ]
    }
   ],
   "source": [
    "string =(input(\" Enter the sentence :\"))\n",
    "vowels = \"aeiouAEIOU\"\n",
    "count_vowels = 0\n",
    "\n",
    "for i in string:\n",
    "    if i in vowels:\n",
    "        count_vowels += 1\n",
    "print(f\"The count of vowels is : {count_vowels}\")"
   ]
  },
  {
   "cell_type": "markdown",
   "id": "9e344532",
   "metadata": {},
   "source": [
    "3. Given a string, reverse the order of characters using string slicing and print\n",
    "   the reversed string."
   ]
  },
  {
   "cell_type": "code",
   "execution_count": 12,
   "id": "ed6d96f8",
   "metadata": {},
   "outputs": [
    {
     "name": "stdout",
     "output_type": "stream",
     "text": [
      "The reverse string is : yrtnuoc ym si aidnI\n"
     ]
    }
   ],
   "source": [
    "string = \"India is my country\"\n",
    "reverse_string = string[::-1]\n",
    "print(f\"The reverse string is : {reverse_string}\")"
   ]
  },
  {
   "cell_type": "markdown",
   "id": "60645de9",
   "metadata": {},
   "source": [
    "4. Write a program that takes a string as input and checks if it is a palindrome\n",
    "   (reads the same forwards and backwards)."
   ]
  },
  {
   "cell_type": "code",
   "execution_count": 19,
   "id": "6e79d739",
   "metadata": {},
   "outputs": [
    {
     "name": "stdout",
     "output_type": "stream",
     "text": [
      "Enter the string :Malayalam\n",
      "Is palindrome : True\n"
     ]
    }
   ],
   "source": [
    "string = input(\"Enter the string :\")\n",
    "string = string.lower().replace(\" \",\"\")\n",
    "string1 = string[::-1]\n",
    "is_palindrome = string == string1\n",
    "print(f\"Is palindrome : {is_palindrome}\")"
   ]
  },
  {
   "cell_type": "markdown",
   "id": "3eb66ee6",
   "metadata": {},
   "source": [
    "5. Create a program that takes a string as input and removes all the spaces from\n",
    "   it. Print the modified string without spaces."
   ]
  },
  {
   "cell_type": "code",
   "execution_count": 21,
   "id": "3e287315",
   "metadata": {},
   "outputs": [
    {
     "name": "stdout",
     "output_type": "stream",
     "text": [
      "Enter the string : R a h u l\n",
      "The modified string is : Rahul\n"
     ]
    }
   ],
   "source": [
    "string = input(\"Enter the string : \")\n",
    "string1 = string.replace(\" \",\"\")\n",
    "print(f\"The modified string is : {string1}\")"
   ]
  },
  {
   "cell_type": "code",
   "execution_count": null,
   "id": "5ac4fe87",
   "metadata": {},
   "outputs": [],
   "source": []
  }
 ],
 "metadata": {
  "kernelspec": {
   "display_name": "Python 3 (ipykernel)",
   "language": "python",
   "name": "python3"
  },
  "language_info": {
   "codemirror_mode": {
    "name": "ipython",
    "version": 3
   },
   "file_extension": ".py",
   "mimetype": "text/x-python",
   "name": "python",
   "nbconvert_exporter": "python",
   "pygments_lexer": "ipython3",
   "version": "3.10.9"
  }
 },
 "nbformat": 4,
 "nbformat_minor": 5
}
